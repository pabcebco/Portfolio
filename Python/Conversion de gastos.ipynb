{
 "cells": [
  {
   "cell_type": "code",
   "execution_count": 111,
   "metadata": {},
   "outputs": [],
   "source": [
    "import pandas as pd\n",
    "gastos_sin_editar = pd.read_csv('datasets/gastos/gastos.csv', sep=\";\", decimal = \",\", dayfirst = True)\n",
    "gastos2=gastos_sin_editar[[\"Fecha_Valor\",\"Concepto\",\"Importe\"]]"
   ]
  },
  {
   "cell_type": "code",
   "execution_count": 113,
   "metadata": {},
   "outputs": [],
   "source": [
    "gastos2 = gastos2.rename(columns={\"Fecha_Valor\":\"DATE\", \n",
    "                        \"Concepto\":\"CONCEPT\", \n",
    "                        \"Importe\":\"IMPORT\"})\n",
    "gastos2.loc[:,\"OBSERVATION\"] = 'NaN'"
   ]
  },
  {
   "cell_type": "code",
   "execution_count": 114,
   "metadata": {},
   "outputs": [],
   "source": [
    "mask = gastos2['IMPORT'] > 0\n",
    "gastos2.loc[mask, 'CLASS'] = 'Income'\n",
    "gastos2.loc[~mask, 'CLASS'] = 'Expense'"
   ]
  },
  {
   "cell_type": "code",
   "execution_count": 115,
   "metadata": {},
   "outputs": [],
   "source": [
    "mask = gastos2['CONCEPT'].str.lower().str.find('pepe mobil') >= 0\n",
    "gastos2.loc[mask, 'TYPE'] = 'Phone'\n",
    "gastos2.loc[mask, 'SUBTYPE'] = 'Pablo'"
   ]
  },
  {
   "cell_type": "code",
   "execution_count": null,
   "metadata": {},
   "outputs": [],
   "source": [
    "mask = gastos2['CONCEPT'].str.lower().str.find('yoigo') >= 0\n",
    "gastos2.loc[mask, 'TYPE'] = 'Phone'\n",
    "gastos2.loc[mask, 'SUBTYPE'] = 'Nilu'"
   ]
  },
  {
   "cell_type": "code",
   "execution_count": 116,
   "metadata": {},
   "outputs": [],
   "source": [
    "mask = gastos2['CONCEPT'].str.lower().str.find('consum') >= 0\n",
    "gastos2.loc[mask, 'TYPE'] = 'Food'\n",
    "gastos2.loc[mask, 'SUBTYPE'] = 'Groceries'"
   ]
  },
  {
   "cell_type": "code",
   "execution_count": 117,
   "metadata": {},
   "outputs": [],
   "source": [
    "mask = gastos2['CONCEPT'].str.lower().str.find('just') >= 0\n",
    "gastos2.loc[mask, 'TYPE'] = 'Food'\n",
    "gastos2.loc[mask, 'SUBTYPE'] = 'Delivery'"
   ]
  },
  {
   "cell_type": "code",
   "execution_count": null,
   "metadata": {},
   "outputs": [],
   "source": [
    "mask = gastos2['CONCEPT'].str.lower().str.find('dominos') >= 0\n",
    "gastos2.loc[mask, 'TYPE'] = 'Food'\n",
    "gastos2.loc[mask, 'SUBTYPE'] = 'Delivery'"
   ]
  },
  {
   "cell_type": "code",
   "execution_count": null,
   "metadata": {},
   "outputs": [],
   "source": [
    "mask = gastos2['CONCEPT'].str.lower().str.find('farmacia') >= 0\n",
    "gastos2.loc[mask, 'TYPE'] = 'Pharmacy'"
   ]
  },
  {
   "cell_type": "code",
   "execution_count": null,
   "metadata": {},
   "outputs": [],
   "source": [
    "mask = gastos2['CONCEPT'].str.lower().str.find('ecooltra') >= 0\n",
    "gastos2.loc[mask, 'TYPE'] = 'Movility'\n",
    "gastos2.loc[mask, 'SUBTYPE'] = 'Motorbike'"
   ]
  },
  {
   "cell_type": "code",
   "execution_count": null,
   "metadata": {},
   "outputs": [],
   "source": [
    "mask = gastos2['CONCEPT'].str.lower().str.find('taxi') >= 0\n",
    "gastos2.loc[mask, 'TYPE'] = 'Movility'\n",
    "gastos2.loc[mask, 'SUBTYPE'] = 'Motorbike'"
   ]
  },
  {
   "cell_type": "code",
   "execution_count": null,
   "metadata": {},
   "outputs": [],
   "source": [
    "mask = gastos2['IMPORT'] = 675\n",
    "gastos2.loc[mask, 'TYPE'] = 'Rental'"
   ]
  },
  {
   "cell_type": "code",
   "execution_count": 110,
   "metadata": {},
   "outputs": [],
   "source": [
    "gastos2.to_csv('datasets/Gastos/gastos_editado.csv', sep=\";\", decimal = \",\", date_format = '%Y/%m/%d')"
   ]
  },
  {
   "cell_type": "code",
   "execution_count": null,
   "metadata": {},
   "outputs": [],
   "source": []
  }
 ],
 "metadata": {
  "kernelspec": {
   "display_name": "Python 3",
   "language": "python",
   "name": "python3"
  },
  "language_info": {
   "codemirror_mode": {
    "name": "ipython",
    "version": 3
   },
   "file_extension": ".py",
   "mimetype": "text/x-python",
   "name": "python",
   "nbconvert_exporter": "python",
   "pygments_lexer": "ipython3",
   "version": "3.8.3"
  }
 },
 "nbformat": 4,
 "nbformat_minor": 4
}
